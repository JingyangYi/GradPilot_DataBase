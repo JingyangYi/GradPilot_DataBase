{
 "cells": [
  {
   "cell_type": "code",
   "id": "initial_id",
   "metadata": {
    "collapsed": true,
    "ExecuteTime": {
     "end_time": "2025-07-28T07:34:27.786917Z",
     "start_time": "2025-07-28T07:34:27.779029Z"
    }
   },
   "source": [
    "import os, requests\n",
    "api = \"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\"\n",
    "def tavily_search(query, max_results=5, depth=\"basic\",\n",
    "                  include_answer=True, include_raw_content=False,\n",
    "                  api_key=None, timeout=30):\n",
    "    \"\"\"\n",
    "    调用 Tavily Web Search API 并返回 JSON（dict）。\n",
    "    \"\"\"\n",
    "    key = api_key or os.getenv(\"\")\n",
    "    if not key:\n",
    "        raise RuntimeError(\"请先设置 TAVILY_API_KEY 环境变量或传入 api_key 参数。\")\n",
    "\n",
    "    payload = {\n",
    "        \"query\": query,\n",
    "        \"max_results\": max_results,\n",
    "        \"search_depth\": depth,                # \"basic\" 或 \"advanced\"\n",
    "        \"include_answer\": include_answer,\n",
    "        \"include_raw_content\": include_raw_content,\n",
    "    }\n",
    "    headers = {\"Authorization\": f\"Bearer {key}\", \"Content-Type\": \"application/json\"}\n",
    "    resp = requests.post(\"https://api.tavily.com/search\", json=payload,\n",
    "                         headers=headers, timeout=timeout)\n",
    "    resp.raise_for_status()\n",
    "    return resp.json()\n"
   ],
   "outputs": [],
   "execution_count": 6
  },
  {
   "metadata": {
    "ExecuteTime": {
     "end_time": "2025-07-28T08:51:27.100411Z",
     "start_time": "2025-07-28T08:51:23.235410Z"
    }
   },
   "cell_type": "code",
   "source": [
    "res = tavily_search(\"Imperial College London MSc Applied Computational Science and Engineering number of letters of recommendations\", max_results=1, depth=\"advanced\", api_key=api)\n",
    "res"
   ],
   "id": "eaffb97171e7e060",
   "outputs": [
    {
     "data": {
      "text/plain": [
       "{'query': 'Imperial College London MSc Applied Computational Science and Engineering number of letters of recommendations',\n",
       " 'follow_up_questions': None,\n",
       " 'answer': 'Imperial College London MSc Applied Computational Science and Engineering requires two letters of recommendation. This information is essential for application.',\n",
       " 'images': [],\n",
       " 'results': [{'url': 'https://www.imperial.ac.uk/media/imperial-college/study/programme-specifications/earth-science/24x2f25/F6UC-MSc-ACSE-2024-25.pdf',\n",
       "   'title': '[PDF] MSc Applied Computational Science and Engineering [pdf]',\n",
       "   'content': 'Programme Specification 2024-25 Page 1 of 9 Programme Information Programme Title Programme Code HECoS Code Applied Computational Science and Engineering F6UC For Registry Use Only Award Length of Study Mode of Study Entry Point(s) Total Credits ECTS CATS MSc 1 calendar year (12 months) Full-time Annually in October 90 180 PG Diploma – F6UCP N/A N/A N/A 60 120 PG Certificate N/A N/A N/A 30 60 The PG Diploma and PG Certificate are exit awards only and are not available for entry. You must apply [...] Computational/Data Science Compulsory Autumn-Summer 7.5 EART70160 Data Science and Machine Learning Compulsory Autumn 5 EART70167 Deep Learning Compulsory Autumn 7.5 EART70170 Modelling and Numerical Methods Compulsory Spring 7.5 EART70171 Advanced Programming Compulsory Spring 7.5 EART70172 Inversion and Optimisation Compulsory Spring 7.5 EART70177 Patterns for Parallel Programming Compulsory Summer 7.5 EART70168 Applied Computational/Data Science Project Core Summer 30 Credit Total 90 3 Core [...] www.imperial.ac.uk/study/apply/postgraduate-taught/entry-requirements/accepted-qualifications/ Imperial’s Quality & Enhancement Framework is available at: www.imperial.ac.uk/registry/proceduresandregulations/qualityassurance Imperial’s Academic and Examination Regulations can be found at: www.imperial.ac.uk/about/governance/academic-governance/regulations Imperial College London is an independent corporation whose legal status derives from a Royal Charter granted under Letters Patent in 1907.',\n",
       "   'score': 0.657033,\n",
       "   'raw_content': None}],\n",
       " 'response_time': 1.89}"
      ]
     },
     "execution_count": 36,
     "metadata": {},
     "output_type": "execute_result"
    }
   ],
   "execution_count": 36
  },
  {
   "metadata": {
    "ExecuteTime": {
     "end_time": "2025-07-28T08:47:55.482954Z",
     "start_time": "2025-07-28T08:47:55.454293Z"
    }
   },
   "cell_type": "code",
   "source": [
    "import os\n",
    "import json\n",
    "import requests\n",
    "\n",
    "def serper_search(query,\n",
    "                  num=10,\n",
    "                  gl=\"us\",\n",
    "                  hl=\"en\",\n",
    "                  autocorrect=True,\n",
    "                  api_key=None,\n",
    "                  timeout=30):\n",
    "    \"\"\"\n",
    "    调用 Serper.dev Search API，返回原始 JSON（dict）。\n",
    "\n",
    "    参数:\n",
    "        query (str): 搜索关键词\n",
    "        num (int): 结果数量上限（Serper 会根据实际情况返回）\n",
    "        gl (str): 地域参数（如 'us', 'cn'）\n",
    "        hl (str): 语言参数（如 'en', 'zh-cn'）\n",
    "        autocorrect (bool): 是否自动拼写纠正\n",
    "        api_key (str): 你的 Serper API Key，若不传则读取环境变量 SERPER_API_KEY\n",
    "        timeout (int): 请求超时（秒）\n",
    "    \"\"\"\n",
    "    key = api_key or os.getenv(\"SERPER_API_KEY\")\n",
    "    if not key:\n",
    "        raise RuntimeError(\"请先设置 SERPER_API_KEY 环境变量或传入 api_key 参数。\")\n",
    "\n",
    "    url = \"https://google.serper.dev/search\"\n",
    "    headers = {\n",
    "        \"X-API-KEY\": key,\n",
    "        \"Content-Type\": \"application/json\"\n",
    "    }\n",
    "    payload = {\n",
    "        \"q\": query,\n",
    "        \"num\": num,\n",
    "        \"gl\": gl,\n",
    "        \"hl\": hl,\n",
    "        \"autocorrect\": autocorrect,\n",
    "    }\n",
    "    resp = requests.post(url, headers=headers, json=payload, timeout=timeout)\n",
    "    resp.raise_for_status()\n",
    "    return resp.json()\n"
   ],
   "id": "97616ff7bed0bd26",
   "outputs": [],
   "execution_count": 31
  },
  {
   "metadata": {
    "ExecuteTime": {
     "end_time": "2025-07-28T08:50:48.477509Z",
     "start_time": "2025-07-28T08:50:47.195328Z"
    }
   },
   "cell_type": "code",
   "source": [
    "res = serper_search(\"Imperial College London MSc Applied Computational Science and Engineering number of letters of recommendations\", num=3, hl=\"en\",api_key=\"a40dc08216e823296f7e9a437d42a18aca411604\")\n",
    "print(json.dumps(res, indent=2, ensure_ascii=False))"
   ],
   "id": "72789a637f72c9c2",
   "outputs": [
    {
     "name": "stdout",
     "output_type": "stream",
     "text": [
      "{\n",
      "  \"searchParameters\": {\n",
      "    \"q\": \"Imperial College London MSc Applied Computational Science and Engineering number of letters of recommendations\",\n",
      "    \"gl\": \"us\",\n",
      "    \"hl\": \"en\",\n",
      "    \"type\": \"search\",\n",
      "    \"num\": 3,\n",
      "    \"autocorrect\": true,\n",
      "    \"engine\": \"google\"\n",
      "  },\n",
      "  \"organic\": [\n",
      "    {\n",
      "      \"title\": \"Applied Computational Science and Engineering MSc | Study\",\n",
      "      \"link\": \"https://www.imperial.ac.uk/study/courses/postgraduate-taught/2025/applied-computational-science/\",\n",
      "      \"snippet\": \"2:1 in Engineering or a Science-based subject. English language requirement. All candidates must demonstrate a minimum level of English language proficiency for ...\",\n",
      "      \"position\": 1\n",
      "    },\n",
      "    {\n",
      "      \"title\": \"Application reference | Study | Imperial College London\",\n",
      "      \"link\": \"https://www.imperial.ac.uk/study/apply/postgraduate-taught/application-process/reference/\",\n",
      "      \"snippet\": \"On your application form, you will need to provide the contact details of two referees. One must be an academic reference, the second referee may be another ...\",\n",
      "      \"position\": 2\n",
      "    },\n",
      "    {\n",
      "      \"title\": \"[PDF] MSc Applied Computational Science and Engineering [pdf]\",\n",
      "      \"link\": \"https://www.imperial.ac.uk/media/imperial-college/study/programme-specifications/earth-science/24x2f25/F6UC-MSc-ACSE-2024-25.pdf\",\n",
      "      \"snippet\": \"The programme is aimed at three different groups of potential students: • those with strong methodological backgrounds in mathematics or physical sciences ...\",\n",
      "      \"position\": 3\n",
      "    }\n",
      "  ],\n",
      "  \"relatedSearches\": [\n",
      "    {\n",
      "      \"query\": \"imperial college london reference letter\"\n",
      "    },\n",
      "    {\n",
      "      \"query\": \"imperial college london reference letter deadline\"\n",
      "    },\n",
      "    {\n",
      "      \"query\": \"imperial applied computational science and engineering reddit\"\n",
      "    },\n",
      "    {\n",
      "      \"query\": \"imperial references\"\n",
      "    },\n",
      "    {\n",
      "      \"query\": \"imperial application portal\"\n",
      "    },\n",
      "    {\n",
      "      \"query\": \"grades to get into imperial college london\"\n",
      "    },\n",
      "    {\n",
      "      \"query\": \"imperial college london postgraduate requirements\"\n",
      "    },\n",
      "    {\n",
      "      \"query\": \"imperial college prospectus\"\n",
      "    }\n",
      "  ],\n",
      "  \"credits\": 1\n",
      "}\n"
     ]
    }
   ],
   "execution_count": 35
  },
  {
   "metadata": {},
   "cell_type": "code",
   "outputs": [],
   "execution_count": null,
   "source": "",
   "id": "443532f01a84c58b"
  }
 ],
 "metadata": {
  "kernelspec": {
   "display_name": "Python 3",
   "language": "python",
   "name": "python3"
  },
  "language_info": {
   "codemirror_mode": {
    "name": "ipython",
    "version": 2
   },
   "file_extension": ".py",
   "mimetype": "text/x-python",
   "name": "python",
   "nbconvert_exporter": "python",
   "pygments_lexer": "ipython2",
   "version": "2.7.6"
  }
 },
 "nbformat": 4,
 "nbformat_minor": 5
}
