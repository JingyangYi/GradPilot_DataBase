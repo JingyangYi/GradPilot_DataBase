{
 "cells": [
  {
   "cell_type": "code",
   "execution_count": 2,
   "metadata": {},
   "outputs": [
    {
     "data": {
      "text/plain": [
       "(351, 7)"
      ]
     },
     "execution_count": 2,
     "metadata": {},
     "output_type": "execute_result"
    }
   ],
   "source": [
    "import pandas as pd\n",
    "import sys\n",
    "import os\n",
    "import json\n",
    "from tqdm import tqdm\n",
    "sys.path.append('/Users/yijingyang/Library/CloudStorage/OneDrive-个人/GradPilot/ProgramDB/DataScience')\n",
    "import asyncio\n",
    "from call_api import call_gemini, async_call_gemini\n",
    "from tqdm.asyncio import tqdm_asyncio\n",
    "\n",
    "field_name = \"网申地址\"\n",
    "field_path = f\"/Users/yijingyang/Library/CloudStorage/OneDrive-个人/GradPilot/ProgramDB/DataScience/fields_csv/{field_name}.csv\"\n",
    "field_df = pd.read_csv(field_path)\n",
    "\n",
    "field_df.shape"
   ]
  },
  {
   "cell_type": "code",
   "execution_count": 3,
   "metadata": {},
   "outputs": [],
   "source": [
    "prompt_template = \"\"\"\n",
    "You are an assistant that checks the application portal for the following graduate program.\n",
    "\n",
    "You should use Google search to find the application portal. Note that you are looking for the application portal for the program where applicants submit their applications, not the program overview website.\n",
    "In most cases, the application portal is just a login page where the graduate school manages all graduate programs application. It contains a login button and a create account button.\n",
    "\n",
    "Answer instructions:\n",
    "If you find the website, just return the website url and nothing else. If not found, return \"Not found\".\n",
    "\n",
    "Example response:\n",
    "\"Not found\"\n",
    "\"https://apply.gsas.harvard.edu/portal/apply_now\"\n",
    "\"https://apply-psd.uchicago.edu/apply/\"\n",
    "\"https://applygp.duke.edu/apply/?sr=ff282888-94bf-4e9e-af2b-868e6f1c72a1\"\n",
    "\n",
    "Use Google to search **\"{university} {degree} {program} {department} application portal\"** for more information.\n",
    "\n",
    "URLs you should check:\n",
    "• Admissions URL: {admissions_url}  \n",
    "• Program URL: {program_url}\n",
    "\n",
    "Here are your response. Note that either return the website url or \"Not found\", with nothing else:\n",
    "\"\"\""
   ]
  },
  {
   "cell_type": "code",
   "execution_count": 6,
   "metadata": {},
   "outputs": [],
   "source": [
    "semaphore = asyncio.Semaphore(3) \n",
    "\n",
    "async def process_row(row, prompt_template, num_vote, model_name):\n",
    "    async with semaphore:\n",
    "        row = row.to_dict()\n",
    "        prompt = prompt_template.format(\n",
    "            university     = row[\"大学英文名称\"],\n",
    "            degree         = row[\"学位\"],\n",
    "            program        = row[\"专业英文名称\"],\n",
    "            department     = row[\"所属院系\"],\n",
    "            admissions_url = row[\"招生网址\"],\n",
    "            program_url    = row[\"专业网址\"],\n",
    "        )\n",
    "        record = row.copy()\n",
    "        record[\"llm_reponses\"] = {}\n",
    "\n",
    "        # Launch all API calls in parallel for this row\n",
    "        tasks = [\n",
    "            async_call_gemini(prompt, model_name=model_name, use_search=True, url_context=True)\n",
    "            for _ in range(num_vote)\n",
    "        ]\n",
    "        responses = await asyncio.gather(*tasks)\n",
    "\n",
    "        for i, response in enumerate(responses):\n",
    "            try:\n",
    "                text = response.candidates[0].content.parts[0].text\n",
    "            except:\n",
    "                text = ''\n",
    "            try:\n",
    "                url_context = str(response.candidates[0].url_context_metadata)\n",
    "            except:\n",
    "                url_context = \"Not used\"\n",
    "            try:\n",
    "                search_pages = f\"Search Chunks: {response.candidates[0].grounding_metadata.grounding_chunks}\"\n",
    "            except:\n",
    "                search_pages = \"Not used\"\n",
    "            try:\n",
    "                search_queries = f\"Search Query: {response.candidates[0].grounding_metadata.web_search_queries}\"\n",
    "            except:\n",
    "                search_queries = \"Not used\"\n",
    "            try:\n",
    "                search_support = f\"Search Query: {response.candidates[0].grounding_metadata.groundingSupports}\"\n",
    "            except:\n",
    "                search_support = \"Not used\"\n",
    "\n",
    "            record[\"llm_reponses\"][f\"response {i+1}\"] = {\n",
    "                \"response_text\": text,\n",
    "                \"url_context\": url_context,\n",
    "                \"search_queries\": search_queries,\n",
    "                \"search_pages\": search_pages,\n",
    "                \"search_support\": search_support,\n",
    "            }\n",
    "        return record\n",
    "\n",
    "async def request_and_store_async(prompt_template, field_df, num_vote, model_name, start_from=0, end_at=-1):\n",
    "    df = field_df.copy()[start_from:end_at]\n",
    "    response_records = []\n",
    "\n",
    "    # Create tasks for all rows\n",
    "    tasks = [\n",
    "        process_row(row, prompt_template, num_vote, model_name)\n",
    "        for _, row in df.iterrows()\n",
    "    ]\n",
    "    # Run all row tasks in parallel (limit concurrency if needed)\n",
    "    response_records = await tqdm_asyncio.gather(*tasks)\n",
    "\n",
    "    # Save results\n",
    "    with open(f\"../fields_records/{field_name}/{field_name}_{model_name}_{start_from}_{end_at}.json\", \"w\") as f:\n",
    "        json.dump(response_records, f, ensure_ascii=False, indent=2)\n",
    "    return response_records"
   ]
  },
  {
   "cell_type": "code",
   "execution_count": 7,
   "metadata": {},
   "outputs": [
    {
     "name": "stderr",
     "output_type": "stream",
     "text": [
      "100%|██████████| 10/10 [01:21<00:00,  8.16s/it]\n"
     ]
    }
   ],
   "source": [
    "import nest_asyncio\n",
    "nest_asyncio.apply()  # Only needed in Jupyter\n",
    "\n",
    "num_vote = 3\n",
    "start_from = 0\n",
    "end_at = 10\n",
    "model_name = \"gemini-2.5-flash\"\n",
    "response_records = asyncio.run(\n",
    "    request_and_store_async(prompt_template, field_df, num_vote, model_name, start_from=start_from, end_at=end_at)\n",
    ")"
   ]
  },
  {
   "cell_type": "code",
   "execution_count": null,
   "metadata": {},
   "outputs": [],
   "source": [
    "def majority_vote(records):\n",
    "    for rec in records:\n",
    "        responses = rec[\"llm_reponses\"]\n",
    "        candidate_answers = [r for r in responses.values() if \"no explicit constraints\" not in r]\n",
    "        if len(candidate_answers) > 0:\n",
    "            rec[\"同申互斥\"] = candidate_answers[0]\n",
    "        else:\n",
    "            rec[\"同申互斥\"] = \"no explicit constraints\"\n",
    "    return records\n",
    "num_vote = 3\n",
    "model_name = \"gemini-2.5-flash\"\n",
    "field_name = \"同申互斥\"\n",
    "accuracy = \"median_accuracy\"\n",
    "with open(f\"../fields_records/{field_name}_{model_name}_0_-1.json\", \"r\") as f:\n",
    "    records = json.load(f)\n",
    "records = majority_vote(records)\n",
    "with open(f\"../fields_records/{field_name}_{model_name}_{accuracy}.json\", \"w\") as f:\n",
    "    json.dump(records, f, ensure_ascii=False, indent=2)"
   ]
  }
 ],
 "metadata": {
  "kernelspec": {
   "display_name": "base",
   "language": "python",
   "name": "python3"
  },
  "language_info": {
   "codemirror_mode": {
    "name": "ipython",
    "version": 3
   },
   "file_extension": ".py",
   "mimetype": "text/x-python",
   "name": "python",
   "nbconvert_exporter": "python",
   "pygments_lexer": "ipython3",
   "version": "3.12.7"
  }
 },
 "nbformat": 4,
 "nbformat_minor": 2
}
