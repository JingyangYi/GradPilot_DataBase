{
 "cells": [
  {
   "cell_type": "code",
   "execution_count": 1,
   "metadata": {},
   "outputs": [
    {
     "data": {
      "text/plain": [
       "(351, 7)"
      ]
     },
     "execution_count": 1,
     "metadata": {},
     "output_type": "execute_result"
    }
   ],
   "source": [
    "import pandas as pd\n",
    "import sys\n",
    "import os\n",
    "import json\n",
    "from tqdm import tqdm\n",
    "sys.path.append('/Users/yijingyang/Library/CloudStorage/OneDrive-个人/GradPilot/ProgramDB/DataScience')\n",
    "import asyncio\n",
    "from call_api import call_gemini, async_call_gemini\n",
    "from tqdm.asyncio import tqdm_asyncio\n",
    "\n",
    "field_name = \"同申互斥\"\n",
    "field_path = f\"/Users/yijingyang/Library/CloudStorage/OneDrive-个人/GradPilot/ProgramDB/DataScience/fields_csv/{field_name}.csv\"\n",
    "field_df = pd.read_csv(field_path)\n",
    "\n",
    "field_df.shape"
   ]
  },
  {
   "cell_type": "code",
   "execution_count": 2,
   "metadata": {},
   "outputs": [],
   "source": [
    "prompt_template = \"\"\"\n",
    "You are an assistant whose only task is to verify whether the graduate program below **restricts applicants from applying to additional programs in the same admissions cycle**.\n",
    "\n",
    "Typical patterns (for context, not assumption)\n",
    "• Many schools permit only **one** application within the *same department / division / school* (e.g., Engineering).  \n",
    "• Some universities cap the **total** number of graduate applications campus-wide (e.g., “maximum two programs per year”).  \n",
    "• Cross-school combinations (e.g., Engineering + Public Health) are often allowed unless the university sets a global limit.\n",
    "\n",
    "────────────────────────────────────────────────────────\n",
    "How to confirm the rule\n",
    "\n",
    "1. **Primary *.edu* sources only**  \n",
    "   • Review the Admissions and Program URLs supplied.  \n",
    "   • You may open any additional pages under the same university’s *.edu* domain (e.g., “Application Instructions”, “FAQ”, “Graduate Admissions Policies”).  \n",
    "   ⛔  Ignore non-*.edu* sites, rankings, blogs, or forums.\n",
    "\n",
    "2. **Optional Google search**  \n",
    "   Query once:  \n",
    "   \"{university} {degree} {program} multiple applications same school department limit site:.edu\"  \n",
    "   Check *.edu* results only until you find an authoritative statement.\n",
    "\n",
    "3. **Decision rules**  \n",
    "   • If a page clearly states a **limit** (e.g., “Applicants may apply to only one program per school” or “One application per academic year for MS or PhD in this department”) → quote that restriction in a **single concise sentence**.  \n",
    "   • If the university sets a campus-wide cap (e.g., “You may submit up to two graduate applications total”) → state that rule.  \n",
    "   • If no explicit constraint is found on an *.edu* page, output **No explicit constraints**.  \n",
    "   • Never infer or invent.\n",
    "\n",
    "────────────────────────────────────────────────────────\n",
    "⚠️  Output format (exactly one line, no quotes, no extra text)  \n",
    "\n",
    "Examples of valid outputs:  \n",
    "Only one application per department is allowed each year  \n",
    "Applicants may submit a maximum of two graduate applications university-wide  \n",
    "No explicit constraints  \n",
    "\n",
    "────────────────────────────────────────────────────────\n",
    "Pages to consult first:\n",
    "• Admissions URL: {admissions_url}  \n",
    "• Program URL:    {program_url}\n",
    "\n",
    "Are there constraints on applying to multiple programs?\n",
    "\"\"\"\n"
   ]
  },
  {
   "cell_type": "code",
   "execution_count": 3,
   "metadata": {},
   "outputs": [],
   "source": [
    "semaphore = asyncio.Semaphore(5) \n",
    "\n",
    "async def process_row(row, prompt_template, num_vote, model_name):\n",
    "    async with semaphore:\n",
    "        row = row.to_dict()\n",
    "        prompt = prompt_template.format(\n",
    "            university     = row[\"大学英文名称\"],\n",
    "            degree         = row[\"学位\"],\n",
    "            program        = row[\"专业英文名称\"],\n",
    "            department     = row[\"所属院系\"],\n",
    "            admissions_url = row[\"招生网址\"],\n",
    "            program_url    = row[\"专业网址\"],\n",
    "        )\n",
    "        record = row.copy()\n",
    "        record[\"llm_reponses\"] = {}\n",
    "\n",
    "        # Launch all API calls in parallel for this row\n",
    "        tasks = [\n",
    "            async_call_gemini(prompt, model_name=model_name, use_search=True, url_context=True)\n",
    "            for _ in range(num_vote)\n",
    "        ]\n",
    "        responses = await asyncio.gather(*tasks)\n",
    "\n",
    "        for i, response in enumerate(responses):\n",
    "            try:\n",
    "                text = response.candidates[0].content.parts[0].text\n",
    "            except:\n",
    "                text = ''\n",
    "            try:\n",
    "                url_context = str(response.candidates[0].url_context_metadata)\n",
    "            except:\n",
    "                url_context = \"Not used\"\n",
    "            try:\n",
    "                search_pages = f\"Search Chunks: {response.candidates[0].grounding_metadata.grounding_chunks}\"\n",
    "            except:\n",
    "                search_pages = \"Not used\"\n",
    "            try:\n",
    "                search_queries = f\"Search Query: {response.candidates[0].grounding_metadata.web_search_queries}\"\n",
    "            except:\n",
    "                search_queries = \"Not used\"\n",
    "            try:\n",
    "                search_support = f\"Search Query: {response.candidates[0].grounding_metadata.groundingSupports}\"\n",
    "            except:\n",
    "                search_support = \"Not used\"\n",
    "\n",
    "            record[\"llm_reponses\"][f\"response {i+1}\"] = {\n",
    "                \"response_text\": text,\n",
    "                \"url_context\": url_context,\n",
    "                \"search_queries\": search_queries,\n",
    "                \"search_pages\": search_pages,\n",
    "                \"search_support\": search_support,\n",
    "            }\n",
    "        return record\n",
    "\n",
    "async def request_and_store_async(prompt_template, field_df, num_vote, model_name, start_from=0, end_at=-1):\n",
    "    df = field_df.copy()[start_from:end_at]\n",
    "    response_records = []\n",
    "\n",
    "    # Create tasks for all rows\n",
    "    tasks = [\n",
    "        process_row(row, prompt_template, num_vote, model_name)\n",
    "        for _, row in df.iterrows()\n",
    "    ]\n",
    "    # Run all row tasks in parallel (limit concurrency if needed)\n",
    "    response_records = await tqdm_asyncio.gather(*tasks)\n",
    "\n",
    "    # Save results\n",
    "    with open(f\"../fields_records/{field_name}/{field_name}_{model_name}_{start_from}_{end_at}_newprompt.json\", \"w\") as f:\n",
    "        json.dump(response_records, f, ensure_ascii=False, indent=2)\n",
    "    return response_records"
   ]
  },
  {
   "cell_type": "code",
   "execution_count": 4,
   "metadata": {},
   "outputs": [
    {
     "name": "stderr",
     "output_type": "stream",
     "text": [
      "100%|██████████| 350/350 [51:52<00:00,  8.89s/it]    \n"
     ]
    }
   ],
   "source": [
    "import nest_asyncio\n",
    "nest_asyncio.apply()  # Only needed in Jupyter\n",
    "\n",
    "num_vote = 3\n",
    "start_from = 0\n",
    "end_at = -1\n",
    "model_name = \"gemini-2.5-pro\"\n",
    "response_records = asyncio.run(\n",
    "    request_and_store_async(prompt_template, field_df, num_vote, model_name, start_from=start_from, end_at=end_at)\n",
    ")"
   ]
  },
  {
   "cell_type": "code",
   "execution_count": null,
   "metadata": {},
   "outputs": [],
   "source": [
    "def majority_vote(records):\n",
    "    for rec in records:\n",
    "        responses = rec[\"llm_reponses\"]\n",
    "        candidate_answers = [r for r in responses.values() if \"no explicit constraints\" not in r]\n",
    "        if len(candidate_answers) > 0:\n",
    "            rec[\"同申互斥\"] = candidate_answers[0]\n",
    "        else:\n",
    "            rec[\"同申互斥\"] = \"no explicit constraints\"\n",
    "    return records\n",
    "num_vote = 3\n",
    "model_name = \"gemini-2.5-flash\"\n",
    "field_name = \"同申互斥\"\n",
    "accuracy = \"median_accuracy\"\n",
    "with open(f\"../fields_records/{field_name}_{model_name}_0_-1.json\", \"r\") as f:\n",
    "    records = json.load(f)\n",
    "records = majority_vote(records)\n",
    "with open(f\"../fields_records/{field_name}_{model_name}_{accuracy}.json\", \"w\") as f:\n",
    "    json.dump(records, f, ensure_ascii=False, indent=2)"
   ]
  },
  {
   "cell_type": "code",
   "execution_count": null,
   "metadata": {},
   "outputs": [],
   "source": []
  },
  {
   "cell_type": "code",
   "execution_count": null,
   "metadata": {},
   "outputs": [],
   "source": []
  }
 ],
 "metadata": {
  "kernelspec": {
   "display_name": "base",
   "language": "python",
   "name": "python3"
  },
  "language_info": {
   "codemirror_mode": {
    "name": "ipython",
    "version": 3
   },
   "file_extension": ".py",
   "mimetype": "text/x-python",
   "name": "python",
   "nbconvert_exporter": "python",
   "pygments_lexer": "ipython3",
   "version": "3.12.7"
  }
 },
 "nbformat": 4,
 "nbformat_minor": 2
}
